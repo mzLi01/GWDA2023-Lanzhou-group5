{
 "cells": [
  {
   "cell_type": "markdown",
   "metadata": {},
   "source": [
    "## Advanced Lab Topic 1"
   ]
  },
  {
   "cell_type": "markdown",
   "metadata": {},
   "source": [
    "### Filtering"
   ]
  },
  {
   "cell_type": "code",
   "execution_count": 5,
   "metadata": {},
   "outputs": [],
   "source": [
    "import numpy as np\n",
    "from scipy import signal\n",
    "import matplotlib.pyplot as plt\n",
    "\n",
    "\n",
    "def sinusoid(A, f0, phi0, t):\n",
    "    return A*np.sin(2*np.pi*f0*t + phi0)\n",
    "\n",
    "\n",
    "nsample = 2048\n",
    "sampling_frequency = 1024\n",
    "\n",
    "# generating summed sinusoid signal\n",
    "t = np.arange(0, nsample/sampling_frequency, 1/sampling_frequency)\n",
    "sig = sum(\n",
    "    [sinusoid(A, f0, phi0, t) for A, f0, phi0 in [\n",
    "          (10, 100, 0),\n",
    "          (5, 200, np.pi/6),\n",
    "          (2.5, 300, np.pi/4)\n",
    "    ]])\n"
   ]
  },
  {
   "cell_type": "code",
   "execution_count": null,
   "metadata": {},
   "outputs": [],
   "source": [
    "order = 30\n",
    "lowpass_filter = signal.firwin(order+1, cutoff=150, pass_zero='lowpass', fs=sampling_frequency)\n",
    "sig_lowpass = signal.lfilter(lowpass_filter, 1, sig)"
   ]
  },
  {
   "cell_type": "code",
   "execution_count": 9,
   "metadata": {},
   "outputs": [
    {
     "data": {
      "text/plain": [
       "Text(0, 0.5, 's')"
      ]
     },
     "execution_count": 9,
     "metadata": {},
     "output_type": "execute_result"
    },
    {
     "data": {
      "image/png": "[encoded data removed]",
      "text/plain": [
       "<Figure size 432x288 with 1 Axes>"
      ]
     },
     "metadata": {
      "needs_background": "light"
     },
     "output_type": "display_data"
    }
   ],
   "source": [
    "from scipy import fft\n",
    "\n",
    "for s, label in zip([sig, sig_lowpass], ['origin',' lowpass']):\n",
    "    freq = fft.fftfreq(len(s), d=1/sampling_frequency)\n",
    "    s_fft = fft.fft(s)\n",
    "    plt.plot(freq, np.abs(s_fft), label=label)\n",
    "plt.legend()\n",
    "plt.xlabel('f')\n",
    "plt.ylabel('s')"
   ]
  }
 ],
 "metadata": {
  "kernelspec": {
   "display_name": "base",
   "language": "python",
   "name": "python3"
  },
  "language_info": {
   "codemirror_mode": {
    "name": "ipython",
    "version": 3
   },
   "file_extension": ".py",
   "mimetype": "text/x-python",
   "name": "python",
   "nbconvert_exporter": "python",
   "pygments_lexer": "ipython3",
   "version": "3.7.0"
  },
  "orig_nbformat": 4
 },
 "nbformat": 4,
 "nbformat_minor": 2
}
